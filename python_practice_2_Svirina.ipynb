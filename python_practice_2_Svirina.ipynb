{
  "nbformat": 4,
  "nbformat_minor": 0,
  "metadata": {
    "colab": {
      "provenance": [],
      "toc_visible": true
    },
    "kernelspec": {
      "name": "python3",
      "display_name": "Python 3"
    },
    "language_info": {
      "name": "python"
    }
  },
  "cells": [
    {
      "cell_type": "markdown",
      "source": [
        "# I. Змінні та памʼять."
      ],
      "metadata": {
        "id": "p9wwt0LZzNvn"
      }
    },
    {
      "cell_type": "markdown",
      "source": [
        "1. Створити змінні, що посилаються на два цілих числа, що однакові за значенням, де значення належить проміжку від -5 до 256. Перевірте, чи будуть ці змінні рівні тільки за значенням або ж ще будуть посилатися на один і той самий обʼєкт в памʼяті? Наведіть код та дайте текстову відповідь нижче."
      ],
      "metadata": {
        "id": "HTJrrm95xSV9"
      }
    },
    {
      "cell_type": "code",
      "execution_count": null,
      "metadata": {
        "id": "TATni2vzayjG",
        "colab": {
          "base_uri": "https://localhost:8080/"
        },
        "outputId": "78dee60f-af16-4965-ebae-b32e28349a9c"
      },
      "outputs": [
        {
          "output_type": "stream",
          "name": "stdout",
          "text": [
            "True\n",
            "True\n"
          ]
        }
      ],
      "source": [
        "a = 100\n",
        "b = 100\n",
        "print(a==b)\n",
        "print(id(a)==id(b))\n"
      ]
    },
    {
      "cell_type": "markdown",
      "source": [
        "За перевіркою, роблю висновок, що змінні не тількі рівні за значенням, а й посилаються на один і той самий об'єкт в пам'яті.\n"
      ],
      "metadata": {
        "id": "zfRG_o3WbRdg"
      }
    },
    {
      "cell_type": "markdown",
      "source": [
        "2. За допомогою якої функції можна перевірити належність змінної до вказаного типу даних (напр. чи змінна True посилається на значення булевого та цілочисленого типу)?"
      ],
      "metadata": {
        "id": "ISORzt6M3vAt"
      }
    },
    {
      "cell_type": "code",
      "source": [
        "my_bool = True\n",
        "isinstance(my_bool, bool)\n",
        "\n"
      ],
      "metadata": {
        "id": "9vL9CFaMbfyo",
        "colab": {
          "base_uri": "https://localhost:8080/"
        },
        "outputId": "9c9a2d56-31ce-43a3-d341-da5e94c10384"
      },
      "execution_count": null,
      "outputs": [
        {
          "output_type": "execute_result",
          "data": {
            "text/plain": [
              "True"
            ]
          },
          "metadata": {},
          "execution_count": 8
        }
      ]
    },
    {
      "cell_type": "code",
      "source": [
        "my_bool1 = True\n",
        "isinstance(my_bool1, int)"
      ],
      "metadata": {
        "colab": {
          "base_uri": "https://localhost:8080/"
        },
        "id": "nJYB3j7yw98B",
        "outputId": "86c822e6-b0ee-4071-f78c-6e670bf72571"
      },
      "execution_count": null,
      "outputs": [
        {
          "output_type": "execute_result",
          "data": {
            "text/plain": [
              "True"
            ]
          },
          "metadata": {},
          "execution_count": 9
        }
      ]
    },
    {
      "cell_type": "markdown",
      "source": [
        "# II. Цілі числа та числа з рухомою комою"
      ],
      "metadata": {
        "id": "tRxugKAxwYLw"
      }
    },
    {
      "cell_type": "markdown",
      "source": [
        "3. Створити дві змінні, що посилаються на будь-які ціле число та число з рухомою комою та продемонструвати такі арифметичні операції: додавання, віднімання, ділення, множення, ділення без залишку, ділення по модулю, приведення до ступеню. Всі результати операцій вивести на екран."
      ],
      "metadata": {
        "id": "NLHkgd5Gybc8"
      }
    },
    {
      "cell_type": "code",
      "source": [
        "a = 7\n",
        "b = 3.5\n",
        "\n",
        "addition = a + b\n",
        "subtraction = a - b\n",
        "division = a / b\n",
        "multiplication = a * b\n",
        "floor_division = a // b\n",
        "modulus = a % b\n",
        "exponentiation = a ** b\n",
        "\n",
        "print ( addition , subtraction, division, multiplication, floor_division, modulus, exponentiation )"
      ],
      "metadata": {
        "id": "nb8u_3pjb2cA",
        "colab": {
          "base_uri": "https://localhost:8080/"
        },
        "outputId": "7568140e-9e07-434a-d277-f691d3d066a2"
      },
      "execution_count": null,
      "outputs": [
        {
          "output_type": "stream",
          "name": "stdout",
          "text": [
            "10.5 3.5 2.0 24.5 2.0 0.0 907.4926996951546\n"
          ]
        }
      ]
    },
    {
      "cell_type": "markdown",
      "source": [
        "4. Використовуючи змінні з вправи 3, продемонструйте механізм явного перетворення типів, де числа з рухомою комою перетворюються на цілі числа. Також визначте змінну, що посилається на значення булевого типу і спробуйте явно привести її до цілого числа."
      ],
      "metadata": {
        "id": "1kBClKgPzZnC"
      }
    },
    {
      "cell_type": "code",
      "source": [
        "\n",
        "converted_integer = int(b)\n",
        "Typefloat = type(b)\n",
        "Typeint = type(converted_integer)\n",
        "boolean_value = True\n",
        "Typebool = type(boolean_value)\n",
        "converted_boolean = int(boolean_value)\n",
        "Typeint = type(converted_boolean )\n",
        "b,Typefloat, converted_integer, Typeint, boolean_value, Typebool , converted_boolean, Typeint,\n"
      ],
      "metadata": {
        "id": "TbqJbkeUcKsD",
        "colab": {
          "base_uri": "https://localhost:8080/"
        },
        "outputId": "78bfff4c-18dc-4899-df35-e1cfa17e4d5b"
      },
      "execution_count": null,
      "outputs": [
        {
          "output_type": "execute_result",
          "data": {
            "text/plain": [
              "(3.5, float, 3, int, True, bool, 1, int)"
            ]
          },
          "metadata": {},
          "execution_count": 35
        }
      ]
    },
    {
      "cell_type": "markdown",
      "source": [
        "# IІІ. Рядки (String)."
      ],
      "metadata": {
        "id": "EVJ7AflwxrZi"
      }
    },
    {
      "cell_type": "markdown",
      "source": [
        "\\5. Створити пустий рядок двома різними способами."
      ],
      "metadata": {
        "id": "_s5ECzz9zE61"
      }
    },
    {
      "cell_type": "code",
      "source": [
        "a = \"\"\n",
        "a1 = ''\n",
        "b = str()"
      ],
      "metadata": {
        "id": "fkZJHu9Scvc-"
      },
      "execution_count": null,
      "outputs": []
    },
    {
      "cell_type": "markdown",
      "source": [
        "6. Створити рядок з апострофом. Зробити його сирим. Вивести обидва рядка на екран."
      ],
      "metadata": {
        "id": "4Bdn9J3MzLf_"
      }
    },
    {
      "cell_type": "code",
      "source": [
        "str_ = \"'\"\n",
        "raw_str = r\"'\"\n",
        "print(str_)\n",
        "print(raw_str)\n",
        "str1_ = \"It's nice day\"\n",
        "raw_str2 = r\"It's nice day\"\n",
        "print(str1_)\n",
        "print(raw_str2)\n",
        "str_new = '\\t nice day'\n",
        "str_new1 = r'\\t nice day'\n",
        "\n",
        "print (str_new)\n",
        "print(str_new1)"
      ],
      "metadata": {
        "id": "ivji_hsmc0GH",
        "colab": {
          "base_uri": "https://localhost:8080/"
        },
        "outputId": "bd0f68c9-3c66-44c9-bc19-6f7684eb6cd9"
      },
      "execution_count": null,
      "outputs": [
        {
          "output_type": "stream",
          "name": "stdout",
          "text": [
            "'\n",
            "'\n",
            "It's nice day\n",
            "It's nice day\n",
            "\t nice day\n",
            "\\t nice day\n"
          ]
        }
      ]
    },
    {
      "cell_type": "markdown",
      "source": [
        " Cирі рядки використовуються, щоб все трактувалося такими символами, як воно і є, це зручно використовувати наприклад \\t з табуляцією, щоб символи виводилися як окремо / і окремо t, я вирішила також продемонстувати і цей приклад, адже не зрозуміла, чому з апастрофом в мене не вийшло наочно показати, як це працює.\n",
        ""
      ],
      "metadata": {
        "id": "tbsnXs-m4gcg"
      }
    },
    {
      "cell_type": "markdown",
      "source": [
        "7. Створити змінну, що буде посилатися на Ваше прізвище латинкою. Створити форматований рядок, який буде мати вигляд \"My surname is ______\", де на місці нижніх підкреслень буде Ваше прізвище зі змінної."
      ],
      "metadata": {
        "id": "bg_d8wM4z8dS"
      }
    },
    {
      "cell_type": "code",
      "source": [
        "a = \"Svirina\"\n",
        "format = f\"My surname is {a}\"\n",
        "format"
      ],
      "metadata": {
        "id": "kuxFgpWndACq",
        "colab": {
          "base_uri": "https://localhost:8080/",
          "height": 35
        },
        "outputId": "3b17acd4-7f56-47e1-b05e-f7a5a43caf1d"
      },
      "execution_count": null,
      "outputs": [
        {
          "output_type": "execute_result",
          "data": {
            "text/plain": [
              "'My surname is Svirina'"
            ],
            "application/vnd.google.colaboratory.intrinsic+json": {
              "type": "string"
            }
          },
          "metadata": {},
          "execution_count": 34
        }
      ]
    },
    {
      "cell_type": "markdown",
      "source": [
        "8. Маючи рядок \"My dog is crazy.\" перетворити його на список [\"my\", \"dog\", \"is\", \"crazy\"]"
      ],
      "metadata": {
        "id": "1Nc6RqvQ0hxU"
      }
    },
    {
      "cell_type": "code",
      "source": [
        "line = 'My dog is crazy'\n",
        "linelower = line.lower()\n",
        "linesplit = linelower.split(\" \")\n",
        "\n",
        "print (linesplit)"
      ],
      "metadata": {
        "id": "w1Ya4RqedUhw",
        "colab": {
          "base_uri": "https://localhost:8080/"
        },
        "outputId": "f4dd6423-7a30-44a9-b2b2-c1d6902fb752"
      },
      "execution_count": null,
      "outputs": [
        {
          "output_type": "stream",
          "name": "stdout",
          "text": [
            "['my', 'dog', 'is', 'crazy']\n"
          ]
        }
      ]
    },
    {
      "cell_type": "markdown",
      "source": [
        "# IV. Робота зі списками."
      ],
      "metadata": {
        "id": "GYVqN9uP1D4n"
      }
    },
    {
      "cell_type": "markdown",
      "source": [
        "9. Створити список двома різними за синтаксисом способами. За допомогою вбудованої функції обчисліть довжину одного з них."
      ],
      "metadata": {
        "id": "7-DeDunw2sO-"
      }
    },
    {
      "cell_type": "code",
      "source": [
        "list_literal = [1, 2, 3, 4, 5]\n",
        "list_function = list((6, 7, 8, 9, 10))\n",
        "length_of_list_literal = len(list_literal)\n",
        "length_of_list_literal\n"
      ],
      "metadata": {
        "id": "zxg06Uuxdyoh",
        "colab": {
          "base_uri": "https://localhost:8080/"
        },
        "outputId": "fe8ef363-2af0-4083-d183-65da06d8ac00"
      },
      "execution_count": null,
      "outputs": [
        {
          "output_type": "execute_result",
          "data": {
            "text/plain": [
              "5"
            ]
          },
          "metadata": {},
          "execution_count": 37
        }
      ]
    },
    {
      "cell_type": "markdown",
      "source": [
        "10. Створіть два списка та за допомогою спеціального методу додайте другий з них в якості останнього елемента першого."
      ],
      "metadata": {
        "id": "8vmGUTjL22gI"
      }
    },
    {
      "cell_type": "code",
      "source": [
        "a = [1, 2, 3]\n",
        "b = [\"Anna\", 55, 78]\n",
        "c = a.append(b)\n",
        "print (a)"
      ],
      "metadata": {
        "id": "uHtjWYw7d7hm",
        "colab": {
          "base_uri": "https://localhost:8080/"
        },
        "outputId": "cd77c6f9-99c6-44b1-c83e-82f825104934"
      },
      "execution_count": null,
      "outputs": [
        {
          "output_type": "stream",
          "name": "stdout",
          "text": [
            "[1, 2, 3, ['Anna', 55, 78]]\n"
          ]
        }
      ]
    },
    {
      "cell_type": "markdown",
      "source": [
        "11. Створіть список, де елементами цього списку також є списки. Отримай перший елемент з останнього рядка та виведи значення на екран."
      ],
      "metadata": {
        "id": "JC3BkD-67_--"
      }
    },
    {
      "cell_type": "code",
      "source": [
        "nested_list = [[1, 2, 3], [4, 5, 6], [7, 8, 9]]\n",
        "\n",
        "first_element_of_last_row = nested_list[-1][0]\n",
        "\n",
        "first_element_of_last_row"
      ],
      "metadata": {
        "id": "Kz2jZHsGeLlz",
        "colab": {
          "base_uri": "https://localhost:8080/"
        },
        "outputId": "1ec7a0da-2507-4dc3-9c47-d04becef715b"
      },
      "execution_count": null,
      "outputs": [
        {
          "output_type": "execute_result",
          "data": {
            "text/plain": [
              "7"
            ]
          },
          "metadata": {},
          "execution_count": 38
        }
      ]
    },
    {
      "cell_type": "markdown",
      "source": [
        "12. Створіть список з десяти елементів різного типу. Отримайте всі елементи, окрім двох перших та двох останніх та збережіть їх в новій змінній."
      ],
      "metadata": {
        "id": "JA47PKTv8zFK"
      }
    },
    {
      "cell_type": "code",
      "source": [
        "nums = [\"Ann\", 1, 2.5, True, [1,2,3], (10,15), {\"December\": 1, \"November\":2 }, {1,2}, 6-8j, 1000000000000000000000000]\n",
        "some_nums = nums [2:8]\n",
        "some_nums\n"
      ],
      "metadata": {
        "id": "_rHdUR-ueP4-",
        "colab": {
          "base_uri": "https://localhost:8080/"
        },
        "outputId": "931a7e86-006e-4ef7-b8f3-2d3395aa0eae"
      },
      "execution_count": null,
      "outputs": [
        {
          "output_type": "execute_result",
          "data": {
            "text/plain": [
              "[2.5, True, [1, 2, 3], (10, 15), {'December': 1, 'November': 2}, {1, 2}]"
            ]
          },
          "metadata": {},
          "execution_count": 43
        }
      ]
    },
    {
      "cell_type": "markdown",
      "source": [
        "# V. Робота з кортежами."
      ],
      "metadata": {
        "id": "pCjR1dJb1Qbi"
      }
    },
    {
      "cell_type": "markdown",
      "source": [],
      "metadata": {
        "id": "Wr3OgvKOwxHW"
      }
    },
    {
      "cell_type": "markdown",
      "source": [
        "14. Створити кортеж з один елементом."
      ],
      "metadata": {
        "id": "fAZCxAX06R_k"
      }
    },
    {
      "cell_type": "code",
      "source": [
        "tuple1 = (1,)\n",
        "isinstance(tuple1, tuple)\n"
      ],
      "metadata": {
        "id": "H7d82WkQev3e",
        "colab": {
          "base_uri": "https://localhost:8080/"
        },
        "outputId": "0afc10f0-ac20-4db6-a751-c43f7f9d91ad"
      },
      "execution_count": null,
      "outputs": [
        {
          "output_type": "execute_result",
          "data": {
            "text/plain": [
              "True"
            ]
          },
          "metadata": {},
          "execution_count": 46
        }
      ]
    },
    {
      "cell_type": "markdown",
      "source": [
        "15. Порівняйте список та кортеж. Назвіть схожості та відмінності, випадки використання.\n"
      ],
      "metadata": {
        "id": "8LCtYcmI6w1M"
      }
    },
    {
      "cell_type": "markdown",
      "source": [
        "Схожості:\n",
        "\n",
        "Індексація: Як списки, так і кортежі підтримують індексацію, що дозволяє доступатися до елементів за їх індексом.\n",
        "Срізи (Slicing): Обидва типи даних дозволяють використовувати срізи для доступу до підмножини елементів.\n",
        "Вкладеність: Як списки, так і кортежі можуть містити інші складні типи даних, включно з іншими списками та кортежами.\n",
        "Ітерація: Обидва можуть бути використані в циклах для ітерації через їх елементи.\n",
        "\n",
        "Відмінності:\n",
        "\n",
        "Змінність (Mutability): Списки - змінні (mutable), що означає, що можна змінювати, додавати, видаляти елементи після створення списку. Кортежі - незмінні (immutable), що означає, що їх вміст не можна змінити після створення.\n",
        "Розмір в пам’яті: Кортежі, будучи незмінними, займають менше місця в пам’яті, ніж списки.\n",
        "\n",
        "\n",
        "\n",
        "Використання: Списки часто використовуються для даних, які можуть змінюватися, наприклад, даних, які потребують редагування, видалення або додавання елементів. Кортежі використовуються, коли дані не мають бути змінені, наприклад, для зберігання конфігураційних даних або для передачі даних між функціями, де важлива їх незмінність.\n",
        "\n",
        "\n",
        "Коротко кажучи, вибір між списком та кортежем часто залежить від того, чи потрібна змінність даних та ефективність використання пам’яті, на мою думку.\n"
      ],
      "metadata": {
        "id": "fUsN1Hnue0C6"
      }
    },
    {
      "cell_type": "markdown",
      "source": [
        "16. Створіть кортеж з 11ти елементів чисел з рухомою комою та отримайте кожен парний за індексом елемент в зворотньому порядку. Наприклад, маючи (1.2, 2.3, 3.3, 4.3, 5.3, 6.3, 7.3, 8.3, 9.3, 0.3), отримати (0.3, 8.3, 6.3, 4.3, 2.3). Результат збережіть в нову змінну та виведіть на екран."
      ],
      "metadata": {
        "id": "m0xrwFijAmDD"
      }
    },
    {
      "cell_type": "code",
      "source": [
        "\n",
        "tuple_of_floats = (1.1, 2.2, 3.3, 4.4, 5.5, 6.6, 7.7, 8.8, 9.9, 10.15, 11.11)\n",
        "elements_reversed = tuple_of_floats[-2::-2]\n",
        "\n",
        "elements_reversed\n"
      ],
      "metadata": {
        "id": "p-5DAH6XfAGA",
        "colab": {
          "base_uri": "https://localhost:8080/"
        },
        "outputId": "7b38a7f9-91ce-42b6-8906-0e2a96dfb41d"
      },
      "execution_count": null,
      "outputs": [
        {
          "output_type": "execute_result",
          "data": {
            "text/plain": [
              "(10.15, 8.8, 6.6, 4.4, 2.2)"
            ]
          },
          "metadata": {},
          "execution_count": 49
        }
      ]
    },
    {
      "cell_type": "markdown",
      "source": [
        "# VI. Множини (Set)."
      ],
      "metadata": {
        "id": "rW_I9dt3x6cW"
      }
    },
    {
      "cell_type": "markdown",
      "source": [
        "17. Створити множину без елементів. Після цого за допомогою методу додайте кілька різних елементів до множини. Чи множини є змінним типом даних?"
      ],
      "metadata": {
        "id": "zNjRLHLw1Bgg"
      }
    },
    {
      "cell_type": "code",
      "source": [
        "emptyset = set()\n",
        "emptyset.add(1)\n",
        "emptyset.add(\"Python\")\n",
        "emptyset.add(1.2)\n",
        "emptyset"
      ],
      "metadata": {
        "id": "KOv7zc2Kfo4N",
        "colab": {
          "base_uri": "https://localhost:8080/"
        },
        "outputId": "d041baa3-8b59-4e16-f5ad-55b5bc2a8d5e"
      },
      "execution_count": 57,
      "outputs": [
        {
          "output_type": "execute_result",
          "data": {
            "text/plain": [
              "{1, 1.2, 'Python'}"
            ]
          },
          "metadata": {},
          "execution_count": 57
        }
      ]
    },
    {
      "cell_type": "markdown",
      "source": [
        "Містять унікальні елементи, set є mutable тип даних.\n"
      ],
      "metadata": {
        "id": "vxS6dVYiftZQ"
      }
    },
    {
      "cell_type": "markdown",
      "source": [
        "18. Створити множину, маючи список my_list = [1, 1, 2, 67, 67, 8, 9]. Пояснити, чому \"зникли\" деякі елементи."
      ],
      "metadata": {
        "id": "gHpT0Zw_1HEF"
      }
    },
    {
      "cell_type": "code",
      "source": [
        "my_list = [1, 1, 2, 67, 67, 8, 9]\n",
        "my_set_from_list = set(my_list)\n",
        "print(my_set_from_list)"
      ],
      "metadata": {
        "id": "qCN4uvJ_fxmu",
        "colab": {
          "base_uri": "https://localhost:8080/"
        },
        "outputId": "e08227aa-9473-47df-dba2-f6021029c56c"
      },
      "execution_count": 58,
      "outputs": [
        {
          "output_type": "stream",
          "name": "stdout",
          "text": [
            "{1, 2, 67, 8, 9}\n"
          ]
        }
      ]
    },
    {
      "cell_type": "markdown",
      "source": [
        "Тому що Set - це множина унікальних елементів, от ми і можемо спостерігати, що елементи, як 1, 1, які повторюються set \"знищує\" дублікати.\n",
        "\n"
      ],
      "metadata": {
        "id": "tFNc1e20fyny"
      }
    },
    {
      "cell_type": "markdown",
      "source": [
        "19. Створіть дві множини. Продемонстуйте над ними операції: обʼєднання, різниці, пересічі та симетричної різниці. Використовуйте методи, що не змінюють множини, а створюють нові."
      ],
      "metadata": {
        "id": "SRMkGizS1UwY"
      }
    },
    {
      "cell_type": "code",
      "source": [
        "A = {1, 2, 3, 4}\n",
        "B = { 3, 4, 5, 6}\n",
        "\n",
        "# Об'єднання\n",
        "union_result = A.union(B)\n",
        "\n",
        "# Різниця\n",
        "difference_A_B = A.difference(B)\n",
        "difference_B_A = B.difference(A)\n",
        "\n",
        "# Перетин\n",
        "intersection_result = A.intersection(B)\n",
        "\n",
        "# Симетрична різниця\n",
        "symmetric_difference_result = A.symmetric_difference(B)\n",
        "\n",
        "union_result, difference_A_B, difference_B_A, intersection_result, symmetric_difference_result\n",
        "\n"
      ],
      "metadata": {
        "id": "h0T-VuDnf3Ri",
        "colab": {
          "base_uri": "https://localhost:8080/"
        },
        "outputId": "2eee78ae-c569-4a7c-d7ed-250b56b8074b"
      },
      "execution_count": 63,
      "outputs": [
        {
          "output_type": "execute_result",
          "data": {
            "text/plain": [
              "({1, 2, 3, 4, 5, 6}, {1, 2}, {5, 6}, {3, 4}, {1, 2, 5, 6})"
            ]
          },
          "metadata": {},
          "execution_count": 63
        }
      ]
    },
    {
      "cell_type": "markdown",
      "source": [
        "# VII. Словники (Dictionary)."
      ],
      "metadata": {
        "id": "kWc8gkzTx7Ea"
      }
    },
    {
      "cell_type": "markdown",
      "source": [
        "20. Створіть пустий словник. До нього додайте чотири пари елементів такі, щоб їхні ключі були різних типів. Чи може список бути ключем? Чому?"
      ],
      "metadata": {
        "id": "i5FLwj-B2ybQ"
      }
    },
    {
      "cell_type": "code",
      "source": [
        "\n",
        "my_dict = {}\n",
        "\n",
        "\n",
        "my_dict[\"string_key\"] = \"String value\"  # Рядковий ключ\n",
        "my_dict[42] = \"Integer value\"          # Цілочисельний ключ\n",
        "my_dict[3.14] = \"Float value\"          # Ключ з плаваючою крапкою\n",
        "my_dict[True] = \"Boolean value\"        # Булевий ключ\n",
        "\n",
        "my_dict\n"
      ],
      "metadata": {
        "id": "hxgv3BzrgLAV",
        "colab": {
          "base_uri": "https://localhost:8080/"
        },
        "outputId": "42202db7-8d82-4680-ad42-af1152b0b5ee"
      },
      "execution_count": 68,
      "outputs": [
        {
          "output_type": "execute_result",
          "data": {
            "text/plain": [
              "{'string_key': 'String value',\n",
              " 42: 'Integer value',\n",
              " 3.14: 'Float value',\n",
              " True: 'Boolean value'}"
            ]
          },
          "metadata": {},
          "execution_count": 68
        }
      ]
    },
    {
      "cell_type": "markdown",
      "source": [
        "Словник чи список? Хоча все одно відповідь одна. Ключами можуть бути тільки immutable types, словник та список в свою чергу відносить до mutable, от і відповідь, чому ні, не може бути ключем.\n"
      ],
      "metadata": {
        "id": "zwa7UVN-gR3m"
      }
    },
    {
      "cell_type": "markdown",
      "source": [
        "21. Створіть словник, де значенням в одній з пар теж буде словник, який теж має вкладений словник. Виведіть на екран значення, що міститься в словнику, що знаходиться на найнижчому рівні ієрархії вкладеності (найбільш внутрішній)."
      ],
      "metadata": {
        "id": "WM_pMlJsgoNf"
      }
    },
    {
      "cell_type": "code",
      "source": [
        "\n",
        "outer_dict = {\n",
        "    \"key1\": \"value1\",\n",
        "    \"key2\": {\n",
        "        \"inner_key1\": \"inner_value1\",\n",
        "        \"inner_key2\": {\n",
        "            \"innermost_key\": \"innermost_value\"  # Найвнутрішній словник\n",
        "        }\n",
        "    }\n",
        "}\n",
        "\n",
        "\n",
        "innermost_value = outer_dict[\"key2\"][\"inner_key2\"][\"innermost_key\"]\n",
        "innermost_value\n"
      ],
      "metadata": {
        "id": "60dlP7IHhAy4",
        "colab": {
          "base_uri": "https://localhost:8080/",
          "height": 35
        },
        "outputId": "a9842fb4-8394-46f2-cea8-c63ff47e27ea"
      },
      "execution_count": 73,
      "outputs": [
        {
          "output_type": "execute_result",
          "data": {
            "text/plain": [
              "'innermost_value'"
            ],
            "application/vnd.google.colaboratory.intrinsic+json": {
              "type": "string"
            }
          },
          "metadata": {},
          "execution_count": 73
        }
      ]
    },
    {
      "cell_type": "markdown",
      "source": [
        "# Вітаю! Ви велика(ий) молодець, що впоралась(вся). Похваліть себе та побалуйте чимось приємним. Я Вами пишаюся."
      ],
      "metadata": {
        "id": "xOZP0hkx6cCr"
      }
    }
  ]
}